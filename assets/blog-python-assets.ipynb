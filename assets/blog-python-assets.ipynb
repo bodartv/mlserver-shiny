{
 "cells": [
  {
   "cell_type": "markdown",
   "metadata": {},
   "source": [
    "# Microsoft Machine Learning Serve"
   ]
  },
  {
   "cell_type": "markdown",
   "metadata": {},
   "source": [
    "## car-service"
   ]
  },
  {
   "cell_type": "code",
   "execution_count": null,
   "metadata": {
    "collapsed": true
   },
   "outputs": [],
   "source": [
    "from revoscalepy import rx_lin_mod\n",
    "from azureml.deploy import DeployClient\n",
    "from microsoftml.datasets.datasets import get_dataset\n",
    "\n",
    "mtcars = get_dataset('mtcars')\n",
    "\n",
    "# -- Define the exactly same model as we did in Part 1.a --\n",
    "cars_model = rx_lin_mod(formula='am ~ hp + wt', data=mtcars)\n",
    "\n",
    "# -- Define a `code_fn` that makes a prediction using our model and test data --\n",
    "def manualTransmission(hp, wt):\n",
    "    import pandas as pd\n",
    "    import numpy as np\n",
    "    from revoscalepy import rx_predict\n",
    "    from matplotlib import pyplot as plt\n",
    "    \n",
    "    # -- make the prediction use model `cars_model` and input data --\n",
    "    new_data = pd.DataFrame({\"hp\":[hp], \"wt\":[wt]})\n",
    "    answer = rx_predict(cars_model, new_data, type = 'response')\n",
    "    \n",
    "    # -- save arbitrary file to demonstrate the ability to return files --\n",
    "    mu, sigma = 100, 15\n",
    "    x = mu + sigma * np.random.randn(10000)\n",
    "    hist, bins = np.histogram(x, bins=50)\n",
    "    width = 0.7 * (bins[1] - bins[0])\n",
    "    center = (bins[:-1] + bins[1:]) / 2\n",
    "    plt.bar(center, hist, align='center', width=width)\n",
    "    plt.savefig('image.png')\n",
    "    \n",
    "    # return prediction\n",
    "    return answer\n",
    "\n",
    "# -- authenticate against MLServer --\n",
    "auth = ('{{USERNAME}}', '{{PASSWORD}}')\n",
    "client = DeployClient('{{MLSERVER_HOST}}', use='MLServer', auth=auth)\n",
    "\n",
    "# -- Publish/Deploy the `car-service`\n",
    "client.service('car-service')\\\n",
    "   .version('v1.0.0')\\\n",
    "   .code_fn(manualTransmission)\\\n",
    "   .inputs(hp=float, wt=float)\\\n",
    "   .outputs(answer=pd.DataFrame)\\\n",
    "   .models(cars_model=cars_model)\\\n",
    "   .description('The car-service.')\\\n",
    "   .artifacts(['image.png'])\\\n",
    "   .deploy()"
   ]
  },
  {
   "cell_type": "markdown",
   "metadata": {},
   "source": [
    "## realtime-risk-service"
   ]
  },
  {
   "cell_type": "code",
   "execution_count": null,
   "metadata": {
    "collapsed": true
   },
   "outputs": [],
   "source": [
    "from revoscalepy import rx_serialize_model, rx_lin_mod\n",
    "from azureml.deploy import DeployClient\n",
    "from microsoftml.datasets.datasets import get_dataset\n",
    "\n",
    "attitude = get_dataset('attitude').as_df() \\\n",
    "   .drop('Unnamed: 0', axis = 1).astype('double')\n",
    "\n",
    "form = \"rating ~ complaints + privileges + learning + raises + critical + advance\"\n",
    "model = rx_lin_mod(form, attitude, method = 'regression')\n",
    "\n",
    "s_model = rx_serialize_model(model, realtime_scoring_only=True)\n",
    "\n",
    "# -- authenticate against MLServer --\n",
    "auth = ('{{USERNAME}}', '{{PASSWORD}}')\n",
    "client = DeployClient('{{MLSERVER_HOST}}', use='MLServer', auth=auth)\n",
    "\n",
    "# -- Publish/Deploy realtime-rating-service --\n",
    "client.realtime_service('realtime-rating-service') \\\n",
    "   .version('3.0.1') \\\n",
    "   .serialized_model(s_model) \\\n",
    "   .alias('rating') \\\n",
    "   .description(\"this is a realtime model\") \\\n",
    "   .deploy()"
   ]
  }
 ],
 "metadata": {
  "kernelspec": {
   "display_name": "Python [conda root]",
   "language": "python",
   "name": "conda-root-py"
  },
  "language_info": {
   "codemirror_mode": {
    "name": "ipython",
    "version": 3
   },
   "file_extension": ".py",
   "mimetype": "text/x-python",
   "name": "python",
   "nbconvert_exporter": "python",
   "pygments_lexer": "ipython3",
   "version": "3.5.2"
  }
 },
 "nbformat": 4,
 "nbformat_minor": 1
}
